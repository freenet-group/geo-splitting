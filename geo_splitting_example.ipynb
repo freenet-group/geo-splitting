{
 "cells": [
  {
   "cell_type": "code",
   "execution_count": null,
   "metadata": {},
   "outputs": [],
   "source": [
    "import random\n",
    "import pandas as pd\n",
    "import matplotlib.pyplot as plt\n",
    "from jupyterthemes import jtplot\n",
    "\n",
    "jtplot.style(theme='onedork')"
   ]
  },
  {
   "cell_type": "code",
   "execution_count": null,
   "metadata": {},
   "outputs": [],
   "source": [
    "url = \"https://opendata.arcgis.com/api/v3/datasets/dd4580c810204019a7b8eb3e0b329dd6_0/downloads/data?format=csv&spatialRefId=4326\""
   ]
  },
  {
   "cell_type": "code",
   "execution_count": null,
   "metadata": {},
   "outputs": [],
   "source": [
    "df_raw = pd.read_csv(url)\n",
    "df_raw = df_raw.drop([c for c in df_raw.columns if \"Id\" in c], 1)\n",
    "df_raw"
   ]
  },
  {
   "cell_type": "code",
   "execution_count": null,
   "metadata": {},
   "outputs": [],
   "source": [
    "region = df_raw.columns[0]\n",
    "time = df_raw.columns[6]"
   ]
  },
  {
   "cell_type": "code",
   "execution_count": null,
   "metadata": {},
   "outputs": [],
   "source": [
    "df_raw.loc[:,time].min(), df_raw.loc[:,time].max()"
   ]
  },
  {
   "cell_type": "code",
   "execution_count": null,
   "metadata": {},
   "outputs": [],
   "source": [
    "df = df_raw.groupby(region).sum()\n",
    "df"
   ]
  },
  {
   "cell_type": "code",
   "execution_count": null,
   "metadata": {},
   "outputs": [],
   "source": [
    "def random_split(n_elements, group_names:set):\n",
    "    if isinstance(group_names, int):\n",
    "        group_names = set(range(group_names))\n",
    "    assert len(group_names)<n_elements\n",
    "    while True:\n",
    "        split = random.choices(population=list(group_names), k=n_elements)\n",
    "        if len(set(split))==len(group_names):\n",
    "            return split\n",
    "\n",
    "\n",
    "def single_changes(split):\n",
    "    group_names = set(split)\n",
    "    for ix,group_name in enumerate(split):\n",
    "        for new_group_name in group_names - {group_name}:\n",
    "            split[ix] = new_group_name\n",
    "            if len(set(split)) == len(group_names):\n",
    "                yield split.copy()\n",
    "        split[ix] = group_name\n",
    "\n",
    "\n",
    "def split_approx(df2, group_names, metric):\n",
    "    split = random_split(len(df2), group_names)\n",
    "    while True:\n",
    "        new_splits = list(single_changes(split))\n",
    "        new_metrics = [metric(new_split, df2) for new_split in new_splits]\n",
    "        if min(new_metrics)>=metric(split, df2):\n",
    "            return split\n",
    "        split = new_splits[new_metrics.index(min(new_metrics))]"
   ]
  },
  {
   "cell_type": "code",
   "execution_count": null,
   "metadata": {},
   "outputs": [],
   "source": [
    "def calc_split_metric(split, df):\n",
    "    df3 = df.groupby(split).sum()\n",
    "    df3 /= df3.sum()\n",
    "    return (df3.max() - df3.min()).sum()"
   ]
  },
  {
   "cell_type": "code",
   "execution_count": null,
   "metadata": {},
   "outputs": [],
   "source": [
    "group_col = \"group\"\n",
    "assert group_col not in df.columns\n",
    "df[group_col] = split_approx(df, 3, calc_split_metric)\n",
    "df.groupby(group_col).sum()"
   ]
  },
  {
   "cell_type": "code",
   "execution_count": null,
   "metadata": {},
   "outputs": [],
   "source": [
    "df"
   ]
  },
  {
   "cell_type": "code",
   "execution_count": null,
   "metadata": {},
   "outputs": [],
   "source": [
    "df_eval = df_raw.join(df.group, on=region).groupby([group_col, time]).sum()\n",
    "for col in df_eval.columns:\n",
    "    df_eval[col].unstack(group_col).plot(figsize=(16,6))\n",
    "    plt.xticks(rotation=20)\n",
    "    plt.title(col)\n",
    "    plt.show()"
   ]
  }
 ],
 "metadata": {
  "kernelspec": {
   "display_name": "min",
   "language": "python",
   "name": "min"
  },
  "language_info": {
   "codemirror_mode": {
    "name": "ipython",
    "version": 3
   },
   "file_extension": ".py",
   "mimetype": "text/x-python",
   "name": "python",
   "nbconvert_exporter": "python",
   "pygments_lexer": "ipython3",
   "version": "3.6.9"
  }
 },
 "nbformat": 4,
 "nbformat_minor": 4
}
